{
 "cells": [
  {
   "cell_type": "code",
   "execution_count": 3,
   "id": "97f0d4fd",
   "metadata": {},
   "outputs": [],
   "source": [
    "import os\n",
    "from dotenv import load_dotenv\n",
    "from langchain_core.tools import tool\n",
    "from x_sem_ad import XSemAD, load_event_log_from_xes\n",
    "from langchain_google_genai import ChatGoogleGenerativeAI\n",
    "from langchain_core.messages import HumanMessage, ToolMessage, SystemMessage\n",
    "\n",
    "load_dotenv()\n",
    "\n",
    "if not os.getenv(\"GOOGLE_API_KEY\"):\n",
    "    raise ValueError(\"A chave de API do Google não foi encontrada. Defina a variável de ambiente GOOGLE_API_KEY.\")"
   ]
  },
  {
   "cell_type": "code",
   "execution_count": 4,
   "id": "92df18e3",
   "metadata": {},
   "outputs": [
    {
     "name": "stdout",
     "output_type": "stream",
     "text": [
      "Inicializando o sistema de análise de anomalias...\n"
     ]
    },
    {
     "name": "stderr",
     "output_type": "stream",
     "text": [
      "/home/danilo/dev/research/venv/lib/python3.10/site-packages/pm4py/util/dt_parsing/parser.py:82: UserWarning: ISO8601 strings are not fully supported with strpfromiso for Python versions below 3.11\n",
      "  warnings.warn(\n"
     ]
    },
    {
     "data": {
      "application/vnd.jupyter.widget-view+json": {
       "model_id": "bc6db88e56c04a5eab52a265a46e6ba9",
       "version_major": 2,
       "version_minor": 0
      },
      "text/plain": [
       "parsing log, completed traces ::   0%|          | 0/6449 [00:00<?, ?it/s]"
      ]
     },
     "metadata": {},
     "output_type": "display_data"
    },
    {
     "name": "stdout",
     "output_type": "stream",
     "text": [
      "Loading model from: ./data/model/ folder\n"
     ]
    }
   ],
   "source": [
    "path_to_model=\"./data/model/\"\n",
    "path_to_log = 'data/InternationalDeclarations.xes'\n",
    "\n",
    "print(\"Inicializando o sistema de análise de anomalias...\")\n",
    "log = load_event_log_from_xes(path_to_log)\n",
    "model = XSemAD(path_to_model=path_to_model)\n",
    "model.load_event_log(log)"
   ]
  },
  {
   "cell_type": "code",
   "execution_count": 5,
   "id": "166f7d3e",
   "metadata": {},
   "outputs": [],
   "source": [
    "@tool\n",
    "def analisar_anomalias_de_processo(constraint_type: str,\n",
    "\t\t\t\t\t\t\t\t   threshold: float=0.75) -> dict:\n",
    "\t\"\"\"\n",
    "\tExecuta a análise de anomalias para um tipo de restrição específico em um log de eventos de processo já carregado.\n",
    "\n",
    "\tArgs:\n",
    "\t\tconstraint_type: O tipo de restrição a ser verificada. A partir da pergunta do usuário, escolha um dos seguintes valores: 'Init', 'End', 'Precedence', 'Succession', 'Alternate Precedence', 'Co-Existence', 'Response', 'Alternate Response', 'Alternate Succession', 'Choice', 'Exclusive Choice'. Para \"regra de início\", use 'Init'.\n",
    "\t\tthreshold: O valor de limiar para a análise de anomalias. Este parâmetro é usado para definir o nível de severidade das violações de restrição.\n",
    "\n",
    "\tReturns:\n",
    "\t\tUm dicionário com as restrições violadas e a contagem de suas violações,\n",
    "\t\tno seguinte formato: {\n",
    "\t\t\t\"constraint_type[activity_a, activity_b]\": int(violation_count), ...\n",
    "\t\t}, exemplo:\n",
    "\t\t{\n",
    "\t\t\t\"Init[Activity A, Activity B]\": 5,\n",
    "\t\t\t\"End[Activity C, Activity D]\": 3\n",
    "\t\"\"\"\n",
    "\tprint(f\"\\n>>> analisar_anomalias_de_processo(constraint_type='{constraint_type}', threshold={threshold})\")\n",
    "\tresult = model.run(constraint_type=constraint_type, threshold=threshold)\n",
    "\tprint(f\">>> {result}\\n\")\n",
    "\treturn result"
   ]
  },
  {
   "cell_type": "code",
   "execution_count": null,
   "id": "e721631c",
   "metadata": {},
   "outputs": [
    {
     "name": "stdout",
     "output_type": "stream",
     "text": [
      "You are an expert Process Mining assistant. Your primary goal is to help users analyze and understand event logs by using the tools at your disposal.\n",
      "\n",
      "Follow these rules strictly:\n",
      "1. Translate the constraints rules and the activities to the language of the user.\n",
      "2. Answer in natural language, so that any user not familiar with the process mining can understand your answer without any technical knowledge.\n",
      "3. If context is provided, use it to enhance your response and judge the correctness of the tool responses.\n",
      "4. If no anomalies are found, state this clearly and positively.\n",
      "5. End with a brief summary or suggestion, if applicable.\n",
      "\n",
      "Here are some examples of how you should respond based on the conversation history:\n",
      "\n",
      "**EXAMPLE 1: ANOMALIES FOUND**\n",
      "\n",
      "*Question:*\n",
      "Quais são as anomalias para a regra de início e coexistência?\n",
      "\n",
      "*Tool Responses:*\n",
      "{'Start[register request]': 5}\n",
      "{'Co-Existence[approve order, ship goods]': 12}\n",
      "\n",
      "*Correct Final Answer:*\n",
      "Olá! Analisei o log de eventos e encontrei as seguintes violações de regras:\n",
      "\n",
      "* A regra de *Início* foi encontrada *5* violações para a atividade *registrar solicitação*.\n",
      "* A regra de *Coexistência* foi encontrada *12* violações para as atividades *aprovar pedido* e *enviar mercadoria*.\n",
      "\n",
      "Isso sugere que alguns casos não começam com a atividade esperada e que as atividades \"aprovar pedido\" e \"enviar mercadoria\" nem sempre ocorrem juntas como deveriam.\n",
      "\n",
      "---\n",
      "**EXAMPLE 2: NO ANOMALIES FOUND**\n",
      "\n",
      "*Question:*\n",
      "Verifique se existem violações para a regra de Sucessão.\n",
      "\n",
      "*Tool Response:*\n",
      "{}\n",
      "\n",
      "*Correct Final Answer:*\n",
      "Ótimas notícias! Após analisar o log de eventos, não encontrei nenhuma violação para as regras do tipo *Sucessão*.\n",
      "\n",
      "O processo está em conformidade com todas as regras de sucessão esperadas.\n",
      "\n"
     ]
    }
   ],
   "source": [
    "MODEL = \"gemini-2.0-flash\"\n",
    "# MODEL = \"gemini-2.5-flash\"\n",
    "# MODEL = \"gemini-2.5-pro\"\n",
    "\n",
    "llm = ChatGoogleGenerativeAI(model=MODEL, temperature=0)\n",
    "tools = [analisar_anomalias_de_processo]\n",
    "llm_with_tools = llm.bind_tools(tools)\n",
    "\n",
    "with open(\"./data/qa_prompt.txt\", \"r\") as file:\n",
    "\tsystem_prompt = file.read()\n",
    "\tprint(system_prompt)\n",
    "\n",
    "messages = [SystemMessage(content=system_prompt)]"
   ]
  },
  {
   "cell_type": "code",
   "execution_count": 21,
   "id": "f2ebc07e",
   "metadata": {},
   "outputs": [],
   "source": [
    "with open(\"./data/context.txt\", \"r\") as file:\n",
    "\tsystem_prompt = file.read()\n",
    "\n",
    "messages.append(SystemMessage(content=system_prompt))"
   ]
  },
  {
   "cell_type": "code",
   "execution_count": 22,
   "id": "356f94c0",
   "metadata": {},
   "outputs": [
    {
     "name": "stdout",
     "output_type": "stream",
     "text": [
      "🧑‍💻 Pergunta: Quais são as anomalias que quebram a regra de fim no log de eventos carregado? Considere um limiar de 80% para a análise.\n",
      "\n",
      ">>> analisar_anomalias_de_processo(constraint_type='End', threshold=0.8)\n",
      "Get prediction for constraint type:  End\n",
      ">>> {'End[declaration rejected by supervisor]': 6448}\n",
      "\n",
      "‍💻 Resposta: Olá! Analisei o log de eventos para você.\n",
      "\n",
      "Com um limiar de 80%, encontrei violações para a regra de *Fim*. A análise mostrou que a atividade *declaração rejeitada pelo supervisor* apareceu como a atividade final em **6.448** casos.\n",
      "\n",
      "Isso indica que um número significativo de processos de despesas de viagem não termina com o pagamento ou a conclusão da viagem, como esperado, mas sim com a rejeição da declaração pelo supervisor. Esta é uma anomalia importante, pois representa um desfecho negativo e frequente no processo.\n"
     ]
    }
   ],
   "source": [
    "user_prompt = \"Quais são as anomalias que quebram a regra de fim no log de eventos carregado? Considere um limiar de 80% para a análise.\"\n",
    "messages.append(HumanMessage(content=user_prompt))\n",
    "\n",
    "ai_msg = llm_with_tools.invoke(messages)\n",
    "messages.append(ai_msg)\n",
    "\n",
    "print(f\"🧑‍💻 Pergunta: {user_prompt}\")\n",
    "if ai_msg.tool_calls:\n",
    "\tfor tool_call in ai_msg.tool_calls:\n",
    "\t\tselected_tool = {t.name: t for t in tools}[tool_call[\"name\"]]\n",
    "\t\ttool_output = selected_tool.invoke(tool_call[\"args\"])\n",
    "\n",
    "\t\ttool_message = ToolMessage(content=str(tool_output),\n",
    "\t\t\t\t\t\t\t\t\ttool_call_id=tool_call['id'])\n",
    "\t\tmessages.append(tool_message)\n",
    "\tfinal_response = llm_with_tools.invoke(messages)\n",
    "\n",
    "\tprint(f\"‍💻 Resposta: {final_response.content}\")\n",
    "else:\n",
    "\tprint(f\"‍💻 Resposta: {ai_msg.content}\")\n"
   ]
  }
 ],
 "metadata": {
  "kernelspec": {
   "display_name": "venv",
   "language": "python",
   "name": "python3"
  },
  "language_info": {
   "codemirror_mode": {
    "name": "ipython",
    "version": 3
   },
   "file_extension": ".py",
   "mimetype": "text/x-python",
   "name": "python",
   "nbconvert_exporter": "python",
   "pygments_lexer": "ipython3",
   "version": "3.10.18"
  }
 },
 "nbformat": 4,
 "nbformat_minor": 5
}
