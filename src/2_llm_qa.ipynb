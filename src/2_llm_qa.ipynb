{
 "cells": [
  {
   "cell_type": "code",
   "execution_count": 1,
   "id": "97f0d4fd",
   "metadata": {},
   "outputs": [],
   "source": [
    "import os\n",
    "from dotenv import load_dotenv\n",
    "from langchain_core.tools import tool\n",
    "from x_sem_ad import XSemAD, load_event_log_from_xes\n",
    "from langchain_google_genai import ChatGoogleGenerativeAI\n",
    "from langchain_core.messages import HumanMessage, ToolMessage, SystemMessage\n",
    "\n",
    "load_dotenv()\n",
    "\n",
    "if not os.getenv(\"GOOGLE_API_KEY\"):\n",
    "    raise ValueError(\"A chave de API do Google não foi encontrada. Defina a variável de ambiente GOOGLE_API_KEY.\")"
   ]
  },
  {
   "cell_type": "code",
   "execution_count": 2,
   "id": "92df18e3",
   "metadata": {},
   "outputs": [
    {
     "name": "stdout",
     "output_type": "stream",
     "text": [
      "Inicializando o sistema de análise de anomalias...\n"
     ]
    },
    {
     "name": "stderr",
     "output_type": "stream",
     "text": [
      "/home/danilo/dev/research/venv/lib/python3.10/site-packages/pm4py/util/dt_parsing/parser.py:82: UserWarning: ISO8601 strings are not fully supported with strpfromiso for Python versions below 3.11\n",
      "  warnings.warn(\n"
     ]
    },
    {
     "data": {
      "application/vnd.jupyter.widget-view+json": {
       "model_id": "a68b4a346d8d4e5ba50c783111394588",
       "version_major": 2,
       "version_minor": 0
      },
      "text/plain": [
       "parsing log, completed traces ::   0%|          | 0/6449 [00:00<?, ?it/s]"
      ]
     },
     "metadata": {},
     "output_type": "display_data"
    },
    {
     "name": "stdout",
     "output_type": "stream",
     "text": [
      "Loading model from: ./data/model/ folder\n"
     ]
    }
   ],
   "source": [
    "path_to_model=\"./data/model/\"\n",
    "path_to_log = 'data/InternationalDeclarations.xes'\n",
    "\n",
    "print(\"Inicializando o sistema de análise de anomalias...\")\n",
    "log = load_event_log_from_xes(path_to_log)\n",
    "model = XSemAD(path_to_model=path_to_model)\n",
    "model.load_event_log(log)"
   ]
  },
  {
   "cell_type": "code",
   "execution_count": 3,
   "id": "166f7d3e",
   "metadata": {},
   "outputs": [],
   "source": [
    "@tool\n",
    "def analyse_eventlog_anomalies(constraint_type: str, threshold: float=0.75) -> dict:\n",
    "\t\"\"\"\n",
    "\tPerforms anomaly analysis for a specific constraint type in a previously loaded process event log.\n",
    "\n",
    "\tArgs:\n",
    "\t \tlog: A pandas DataFrame containing the event log data. \n",
    "\t\tconstraint_type: The type of constraint to be checked. Based on the user's question, choose one of the following values:\n",
    "\t\t\t\"Init\" - Initiation(a) = The process starts with activity a.\n",
    "\t\t\t\"End\" - Termination(a) = The process ends with activity a.\n",
    "\t\t\t\"Succession\" - Succession(aj,ak)– Activity aj (ak) occurs if and only if it is followed (preceded) by activity ak (aj) in the process.\n",
    "\t\t\t\"Alternate Succession\" - Alternate Succession(aj,ak)– Activities aj and ak occur in the process if and only if the latter follows the former, and they alternate each other in the trace.\n",
    "\t\t\t\"Choice\" - Choice(aj,ak)– Activity aj or activity ak must be in the process.\n",
    "\t\t\t\"Co-Existence\" - Co-Existence(aj,ak)– Both activities aj and ak must be in the process.\n",
    "\t\t\t\"Exclusive Choice\" - Exclusive Choice(aj,ak)– Either activity aj or activity ak (but not both) must be in the process.\n",
    "\t\t\t\"Response\" - Response(aj,ak)– If activity aj occurs in the process, then activity ak occurs after aj.\n",
    "\t\t\t\"Alternate Response\" - Alternate Response(aj,ak)– Each time activity aj occurs in the process instance, activity ak occurs afterwards, before aj recurs.\n",
    "\t\t\t\"Precedence\" - Precedence(aj,ak)– Activity ak occurs in the process instance only if preceded by activity aj.\n",
    "\t\t\t\"Alternate Precedence\" - Alternate Precedence(aj,ak)– Each time activity ak occurs in the process instance, it is preceded by activity aj, and no other ak can recur in between.\n",
    "\t\tthreshold: The threshold value for anomaly analysis. This parameter is used to define the severity level of constraint violations.\n",
    "\n",
    "\tReturns:\n",
    "\t\tA dictionary with the violated constraints and the count of their violations,\n",
    "\t\tin the following format: {\n",
    "\t\t\t\"constraint_type[activity_a, activity_b]\": int(violation_count), ...\n",
    "\t\t}, example:\n",
    "\t\t{\n",
    "\t\t\t\"Init[Activity A, Activity B]\": 5,\n",
    "\t\t\t\"End[Activity C, Activity D]\": 3\n",
    "\t\t}\n",
    "\t\"\"\"\n",
    "\tprint(f\"\\n>>> analyse_eventlog_anomalies(constraint_type='{constraint_type}', threshold={threshold})\")\n",
    "\tresult = model.run(constraint_type=constraint_type, threshold=threshold)\n",
    "\tprint(f\">>> {result}\\n\")\n",
    "\treturn result"
   ]
  },
  {
   "cell_type": "code",
   "execution_count": 12,
   "id": "e721631c",
   "metadata": {},
   "outputs": [
    {
     "name": "stdout",
     "output_type": "stream",
     "text": [
      "You are an expert Process Mining assistant. Your primary goal is to help users analyze and understand event logs by using the tools at your disposal.\n",
      "\n",
      "Follow these rules strictly:\n",
      "1. Translate the constraints rules and the activities to the language of the user.\n",
      "2. Answer in natural language, so that any user not familiar with the process mining can understand your answer without any technical knowledge.\n",
      "3. If context is provided, use it to enhance your response and judge the correctness of the tool responses.\n",
      "4. End with a brief summary or suggestion, if applicable.\n",
      "\n",
      "Here are some examples of how you should respond based on the conversation history:\n",
      "\n",
      "**EXAMPLE 1: ANOMALIES FOUND**\n",
      "\n",
      "*Question:*\n",
      "Quais são as anomalias para a regra de início e coexistência?\n",
      "\n",
      "*Tool Responses:*\n",
      "{'Start[register request]': 5}\n",
      "{'Co-Existence[approve order, ship goods]': 12}\n",
      "\n",
      "*Correct Final Answer:*\n",
      "Olá! Analisei o log de eventos e encontrei as seguintes violações de regras:\n",
      "\n",
      "* A regra de *Início* foi encontrada *5* violações para a atividade *registrar solicitação*.\n",
      "* A regra de *Coexistência* foi encontrada *12* violações para as atividades *aprovar pedido* e *enviar mercadoria*.\n",
      "\n",
      "Isso sugere que alguns casos não começam com o registro da solicitação e que a aprovação do pedido e envio da mercadoria nem sempre ocorrem juntas como deveriam.\n",
      "\n",
      "---\n",
      "**EXAMPLE 2: ANOMALY FOUND**\n",
      "\n",
      "*Question:*\n",
      "Quais são as violações para a regra de Precedência?\n",
      "\n",
      "*Tool Response:*\n",
      "{'Precedence[register request, approve order]': 3}\n",
      "\n",
      "*Correct Final Answer:*\n",
      "Olá! Após analisar o log de eventos, encontrei as seguintes violações para a regra de *Precedência*:\n",
      "\n",
      "* A regra de *Precedência* foi violada *3* vezes para a sequência de atividades *registrar solicitação* e *aprovar pedido*.\n",
      "\n",
      "Isso indica que, em alguns casos, está registrando uma solicitação sem que a atividade de aprovação do pedido tenha ocorrido antes. \n",
      "\n",
      "---\n",
      "**EXAMPLE 3: NO ANOMALIES FOUND**\n",
      "\n",
      "*Question:*\n",
      "Verifique se existem violações para a regra de Sucessão.\n",
      "\n",
      "*Tool Response:*\n",
      "{}\n",
      "\n",
      "*Correct Final Answer:*\n",
      "Ótimas notícias! Após analisar o log de eventos, não encontrei nenhuma violação para as regras do tipo *Sucessão*.\n",
      "\n",
      "O processo está em conformidade com todas as regras de sucessão esperadas.\n",
      "\n",
      "Here are some examples of how you should NOT respond:\n",
      "\n",
      "**EXAMPLE 1: NOT TRANSLATED**\n",
      "\n",
      "*Question:*\n",
      "Quais são as anomalias para a regra de início e coexistência?\n",
      "\n",
      "*Tool Responses:*\n",
      "{'Start[register request]': 5}\n",
      "{'Co-Existence[approve order, ship goods]': 12}\n",
      "\n",
      "*Incorrect Final Answer:*\n",
      "Hello! I analyzed the event log and found the following rule violations:\n",
      "* The *Start* rule had *5* violations for the activity *register request*.\n",
      "* The *Co-Existence* rule had *12* violations for the activities *approve order* and *ship goods*.\n",
      "\n",
      "** EXAMPLE 2: TECHNICAL JARGON**\n",
      "\n",
      "*Question:*\n",
      "Quais são as violações para a regra de Precedência?\n",
      "\n",
      "*Tool Response:*\n",
      "{'Precedence[register request, approve order]': 3}\n",
      "\n",
      "*Incorrect Final Answer:*\n",
      "Foi encontrada uma anomalia do tipo \"Precedência\" no par de eventos *registrar solicitação* e *aprovar pedido*, ocorrendo *3* vezes.\n",
      "\n"
     ]
    }
   ],
   "source": [
    "# MODEL = \"gemini-2.0-flash\"\n",
    "# MODEL = \"gemini-2.5-flash\"\n",
    "MODEL = \"gemini-2.5-pro\"\n",
    "\n",
    "llm = ChatGoogleGenerativeAI(model=MODEL, temperature=0)\n",
    "tools = [analyse_eventlog_anomalies]\n",
    "llm_with_tools = llm.bind_tools(tools)\n",
    "\n",
    "with open(\"./data/qa_prompt.txt\", \"r\") as file:\n",
    "\tsystem_prompt = file.read()\n",
    "\tprint(system_prompt)\n",
    "\n",
    "messages = [SystemMessage(content=system_prompt)]"
   ]
  },
  {
   "cell_type": "code",
   "execution_count": 13,
   "id": "f2ebc07e",
   "metadata": {},
   "outputs": [],
   "source": [
    "with open(\"./data/context.txt\", \"r\") as file:\n",
    "\tsystem_prompt = file.read()\n",
    "\n",
    "messages.append(SystemMessage(content=system_prompt))"
   ]
  },
  {
   "cell_type": "code",
   "execution_count": 14,
   "id": "356f94c0",
   "metadata": {},
   "outputs": [
    {
     "name": "stdout",
     "output_type": "stream",
     "text": [
      "🧑‍💻 Pergunta: Verifique se existe alguma anomalia de Succession para as atividades 'declaration approved by supervisor' e 'request payment'\n",
      "\n",
      ">>> analyse_eventlog_anomalies(constraint_type='Succession', threshold=0.75)\n",
      "Get prediction for constraint type:  Succession\n",
      ">>> {'Succession[request payment, declaration approved by supervisor]': 6183, 'Succession[declaration rejected by supervisor, declaration approved by supervisor]': 122, 'Succession[send reminder, declaration approved by supervisor]': 406, 'Succession[declaration approved by supervisor, request payment]': 244}\n",
      "\n",
      "‍💻 Resposta: Olá! Analisei o log de eventos para as anomalias de *Sucessão* e encontrei algumas violações, incluindo as que você solicitou.\n",
      "\n",
      "A regra de *Sucessão* significa que uma atividade deve ocorrer se, e somente se, for imediatamente seguida ou precedida por outra atividade específica.\n",
      "\n",
      "Para as atividades que você mencionou, encontrei os seguintes problemas:\n",
      "*   **Declaração aprovada pelo supervisor** e **solicitar pagamento**: Foram encontradas **244** violações. Isso significa que em 244 casos, a aprovação pelo supervisor não foi seguida imediatamente pela solicitação de pagamento, ou vice-versa.\n",
      "*   **Solicitar pagamento** e **declaração aprovada pelo supervisor**: Foram encontradas **6.183** violações. Este número elevado indica que a atividade de solicitar pagamento frequentemente não é precedida pela aprovação do supervisor, ou a aprovação não ocorre logo após a solicitação.\n",
      "\n",
      "Além disso, a análise revelou outras violações de sucessão que podem ser do seu interesse:\n",
      "*   **Enviar lembrete** e **declaração aprovada pelo supervisor**: **406** violações.\n",
      "*   **Declaração rejeitada pelo supervisor** e **declaração aprovada pelo supervisor**: **122** violações.\n",
      "\n",
      "Esses números, especialmente o de 6.183, sugerem que o processo real se desvia bastante da regra de que a solicitação de pagamento e a aprovação do supervisor devem ocorrer em sequência imediata. Pode ser útil investigar por que essas atividades não estão ocorrendo juntas como esperado.\n"
     ]
    }
   ],
   "source": [
    "user_prompt = \"Verifique se existe alguma anomalia de Succession para as atividades 'declaration approved by supervisor' e 'request payment'\"\n",
    "messages.append(HumanMessage(content=user_prompt))\n",
    "\n",
    "ai_msg = llm_with_tools.invoke(messages)\n",
    "messages.append(ai_msg)\n",
    "\n",
    "print(f\"🧑‍💻 Pergunta: {user_prompt}\")\n",
    "if ai_msg.tool_calls:\n",
    "\tfor tool_call in ai_msg.tool_calls:\n",
    "\t\tselected_tool = {t.name: t for t in tools}[tool_call[\"name\"]]\n",
    "\t\ttool_output = selected_tool.invoke(tool_call[\"args\"])\n",
    "\n",
    "\t\ttool_message = ToolMessage(content=str(tool_output),\n",
    "\t\t\t\t\t\t\t\t\ttool_call_id=tool_call['id'])\n",
    "\t\tmessages.append(tool_message)\n",
    "\tfinal_response = llm_with_tools.invoke(messages)\n",
    "\n",
    "\tprint(f\"‍💻 Resposta: {final_response.content}\")\n",
    "else:\n",
    "\tprint(f\"‍💻 Resposta: {ai_msg.content}\")\n"
   ]
  }
 ],
 "metadata": {
  "kernelspec": {
   "display_name": "venv",
   "language": "python",
   "name": "python3"
  },
  "language_info": {
   "codemirror_mode": {
    "name": "ipython",
    "version": 3
   },
   "file_extension": ".py",
   "mimetype": "text/x-python",
   "name": "python",
   "nbconvert_exporter": "python",
   "pygments_lexer": "ipython3",
   "version": "3.10.18"
  }
 },
 "nbformat": 4,
 "nbformat_minor": 5
}
