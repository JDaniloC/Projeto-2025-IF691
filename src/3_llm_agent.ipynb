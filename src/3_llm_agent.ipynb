{
 "cells": [
  {
   "cell_type": "code",
   "execution_count": 1,
   "id": "4eb2aad0",
   "metadata": {},
   "outputs": [],
   "source": [
    "import os\n",
    "import pandas as pd\n",
    "from dotenv import load_dotenv\n",
    "from langchain_core.prompts import PromptTemplate\n",
    "from x_sem_ad import XSemAD, load_event_log_from_xes\n",
    "from langchain_google_genai import ChatGoogleGenerativeAI\n",
    "from langchain.agents import AgentExecutor, create_react_agent\n",
    "from stateful_python_tool import StatefulPythonREPLTool, PythonExecutionContext"
   ]
  },
  {
   "cell_type": "code",
   "execution_count": 2,
   "id": "f974a55c",
   "metadata": {},
   "outputs": [],
   "source": [
    "load_dotenv()\n",
    "if not os.getenv(\"GOOGLE_API_KEY\"):\n",
    "    raise ValueError(\"A chave de API do Google não foi encontrada. Defina a variável de ambiente GOOGLE_API_KEY.\")"
   ]
  },
  {
   "cell_type": "code",
   "execution_count": 3,
   "id": "1a78d449",
   "metadata": {},
   "outputs": [
    {
     "name": "stdout",
     "output_type": "stream",
     "text": [
      "Inicializando o sistema de análise de anomalias...\n"
     ]
    },
    {
     "name": "stderr",
     "output_type": "stream",
     "text": [
      "/home/danilo/dev/research/venv/lib/python3.10/site-packages/pm4py/util/dt_parsing/parser.py:82: UserWarning: ISO8601 strings are not fully supported with strpfromiso for Python versions below 3.11\n",
      "  warnings.warn(\n"
     ]
    },
    {
     "data": {
      "application/vnd.jupyter.widget-view+json": {
       "model_id": "49628bac5ac7413c97cfee4dd874a0e3",
       "version_major": 2,
       "version_minor": 0
      },
      "text/plain": [
       "parsing log, completed traces ::   0%|          | 0/6449 [00:00<?, ?it/s]"
      ]
     },
     "metadata": {},
     "output_type": "display_data"
    },
    {
     "name": "stdout",
     "output_type": "stream",
     "text": [
      "Loading model from: ./data/model/ folder\n"
     ]
    }
   ],
   "source": [
    "path_to_model=\"./data/model/\"\n",
    "path_to_log = 'data/InternationalDeclarations.xes'\n",
    "\n",
    "print(\"Inicializando o sistema de análise de anomalias...\")\n",
    "log = load_event_log_from_xes(path_to_log)\n",
    "model = XSemAD(path_to_model=path_to_model)\n",
    "model.load_event_log(log)"
   ]
  },
  {
   "cell_type": "code",
   "execution_count": 7,
   "id": "eb348f25",
   "metadata": {},
   "outputs": [],
   "source": [
    "def get_eventlog() -> pd.DataFrame:\n",
    "\t\"\"\"\n",
    "\tRetrieves the loaded event log.\n",
    "\n",
    "\tReturns:\n",
    "\t\tA pandas DataFrame containing the event log data.\n",
    "\t\"\"\"\n",
    "\tprint(\"\\n>>> get_eventlog()\")\n",
    "\tprint(f\">>> Eventlog({log.shape})\\n\")\n",
    "\treturn log\n",
    "\n",
    "def analyse_eventlog_anomalies(log: pd.DataFrame, constraint_type: str,\n",
    "\t\t\t\t\t\t\t   threshold: float=0.75) -> dict:\n",
    "\t\"\"\"\n",
    "\tPerforms anomaly analysis for a specific constraint type in a previously loaded process event log.\n",
    "\n",
    "\tArgs:\n",
    "\t \tlog: A pandas DataFrame containing the event log data. \n",
    "\t\tconstraint_type: The type of constraint to be checked. Based on the user's question, choose one of the following values: 'Init', 'End', 'Precedence', 'Succession', 'Alternate Precedence', 'Co-Existence', 'Response', 'Alternate Response', 'Alternate Succession', 'Choice', 'Exclusive Choice'. Example, for start rule,\" use 'Init'.\n",
    "\t\tthreshold: The threshold value for anomaly analysis. This parameter is used to define the severity level of constraint violations.\n",
    "\n",
    "\tReturns:\n",
    "\t\tA dictionary with the violated constraints and the count of their violations,\n",
    "\t\tin the following format: {\n",
    "\t\t\t\"constraint_type[activity_a, activity_b]\": int(violation_count), ...\n",
    "\t\t}, example:\n",
    "\t\t{\n",
    "\t\t\t\"Init[Activity A, Activity B]\": 5,\n",
    "\t\t\t\"End[Activity C, Activity D]\": 3\n",
    "\t\t}\n",
    "\t\"\"\"\n",
    "\tprint(f\"\\n>>> analyse_eventlog_anomalies(constraint_type='{constraint_type}', threshold={threshold})\")\n",
    "\tresult = model.run(constraint_type=constraint_type, threshold=threshold)\n",
    "\tprint(f\">>> {result}\\n\")\n",
    "\treturn result\n",
    "\n",
    "available_functions = {\n",
    "\t\"get_eventlog\": get_eventlog,\n",
    "    \"analyse_eventlog_anomalies\": analyse_eventlog_anomalies,\n",
    "}\n",
    "\n",
    "context = PythonExecutionContext(globals=available_functions)\n",
    "stateful_tool = StatefulPythonREPLTool(context)\n",
    "tools = [stateful_tool]"
   ]
  },
  {
   "cell_type": "code",
   "execution_count": 8,
   "id": "0cbc82f8",
   "metadata": {},
   "outputs": [
    {
     "name": "stdout",
     "output_type": "stream",
     "text": [
      "You are an expert Process Mining assistant. Your primary goal is to help users analyze and understand event logs by using the tools at your disposal.\n",
      "\n",
      "**Eventlog context:**\n",
      "Here are the context information about the event log you are analyzing:\n",
      "{event_log_context}\n",
      "\n",
      "**Content & Analysis Rules:**\n",
      "1. **Use Available Functions:** Do dir() to see the available functions and dir() to learn about them. Use them to answer the user's question.\n",
      "2.  **Translate:** Always translate the technical names of constraints and activities (e.g., 'Init', 'Co-Existence', 'register request') into the user's language (e.g., 'Início', 'Coexistência', 'registrar solicitação').\n",
      "3. **Natural Language Responses:** Provide answers in natural language, ensuring that any user, regardless of their familiarity with process mining, can understand your response without technical jargon.\n",
      "4.  **Analyze and Add Insight:** Do not just report the raw numbers from the tools. Briefly analyze the eventlog and the activities involved to provide insights.\n",
      "5. **Context Usage:** If context is provided, use it to enhance your response and judge the correctness of the tool responses.\n",
      "\n",
      "---\n",
      "\n",
      "You have access to the following tools:\n",
      "\n",
      "{tools}\n",
      "\n",
      "To answer the question, you must use the following format. The Thought/Action/Action Input/Observation cycle can repeat as many times as necessary.\n",
      "\n",
      "Question: the input question you must answer\n",
      "Thought: you should always think about what to do\n",
      "Action: the action to take, should be one of [{tool_names}]\n",
      "Action Input: the input to the action\n",
      "Observation: the result of the action\n",
      "\n",
      "**When you have enough information and know the final answer, you MUST output the final answer in the following format, and nothing else:**\n",
      "\n",
      "Final Answer: your final, well-formatted answer that follows all the rules above.\n",
      "\n",
      "Begin!\n",
      "\n",
      "Previous Conversation:\n",
      "{chat_history}\n",
      "\n",
      "Question: {input}\n",
      "Thought: {agent_scratchpad}\n"
     ]
    }
   ],
   "source": [
    "with open(\"./data/agent_prompt.txt\", \"r\") as file:\n",
    "\tprompt_template_string = file.read()\n",
    "\tprint(prompt_template_string)\n",
    "\n",
    "llm = ChatGoogleGenerativeAI(model=\"gemini-2.5-flash\", temperature=0)\n",
    "prompt = PromptTemplate.from_template(prompt_template_string)\n",
    "agent = create_react_agent(llm=llm, tools=tools, prompt=prompt)\n",
    "agent_executor = AgentExecutor(agent=agent, tools=tools, verbose=True,\n",
    "\t\t\t\t\t\t\t   handle_parsing_errors=True)"
   ]
  },
  {
   "cell_type": "code",
   "execution_count": 9,
   "id": "e92828ab",
   "metadata": {},
   "outputs": [
    {
     "name": "stdout",
     "output_type": "stream",
     "text": [
      "Consider the following context for the eventlog dataset:\n",
      "In many organizations, staff members travel for work. They travel to customers, to conferences or to project meetings and these travels are sometimes expensive. As an employee of an organization, you do not have to pay for your own travel expenses, but the company takes care of them. The dataset contains events pertaining to two years of travel expense claims. The various permits and declaration documents (domestic and international declarations, pre-paid travel costs and requests for payment) all follow a similar process flow. After submission by the employee, the request is sent for approval to the travel administration. If approved, the request is then forwarded to the budget owner and after that to the supervisor. If the budget owner and supervisor are the same person, then only one of these steps is taken. In some cases, the director also needs to approve the request. The process finished with either the trip taking place or a payment being requested and payed. On a high level, we distinguish two types of trips, namely domestic and international. For domestic trips, no prior permission is needed, i.e. an employee can undertake these trips and ask for reimbursement of the costs afterwards. For international trips, permission is needed from the supervisor. This permission is obtained by filing a travel-permit and this travel permit should be approved before making any arrangements. To get the costs for a travel reimbursed, a claim is filed. This can be done as soon as costs are actually payed (for example for flights or conference registration fees), or within two months after the trip (for example hotel and food costs which are usually payed on the spot).\n"
     ]
    }
   ],
   "source": [
    "with open(\"./data/context.txt\", \"r\") as file:\n",
    "\tcontext = file.read()\n",
    "\tprint(context)"
   ]
  },
  {
   "cell_type": "code",
   "execution_count": 10,
   "id": "83d4f8fb",
   "metadata": {},
   "outputs": [
    {
     "name": "stdout",
     "output_type": "stream",
     "text": [
      "\n",
      "\n",
      "\u001b[1m> Entering new AgentExecutor chain...\u001b[0m\n",
      "\u001b[32;1m\u001b[1;3mThought: The user wants to identify anomalies that violate the \"end rule\" in the event log, using an 80% threshold.\n",
      "First, I need to understand what functions are available and which one is relevant for \"end rule\" anomalies.\n",
      "I will use `dir()` to list the available functions and then `help()` on the most promising one to understand its usage.\n",
      "Given the context of process mining and \"end rule\", I'll look for functions related to conformance checking, specifically focusing on end activities or final states.\n",
      "The function `check_end_activities_anomalies` seems to be exactly what I need. I will check its help to understand the parameters, especially how to set the threshold.Action: Stateful Python Interpreter\n",
      "Action Input:\n",
      "dir()\u001b[0m\u001b[36;1m\u001b[1;3m=> ['__builtins__', 'analyse_eventlog_anomalies', 'get_eventlog']\u001b[0m\u001b[32;1m\u001b[1;3mAction: Stateful Python Interpreter\n",
      "Action Input:\n",
      "help(analyse_eventlog_anomalies)\u001b[0m\u001b[36;1m\u001b[1;3mHelp on function analyse_eventlog_anomalies in module __main__:\n",
      "\n",
      "analyse_eventlog_anomalies(log: pandas.core.frame.DataFrame, constraint_type: str, threshold: float = 0.75) -> dict\n",
      "    Performs anomaly analysis for a specific constraint type in a previously loaded process event log.\n",
      "    \n",
      "    Args:\n",
      "            log: A pandas DataFrame containing the event log data. \n",
      "            constraint_type: The type of constraint to be checked. Based on the user's question, choose one of the following values: 'Init', 'End', 'Precedence', 'Succession', 'Alternate Precedence', 'Co-Existence', 'Response', 'Alternate Response', 'Alternate Succession', 'Choice', 'Exclusive Choice'. Example, for start rule,\" use 'Init'.\n",
      "            threshold: The threshold value for anomaly analysis. This parameter is used to define the severity level of constraint violations.\n",
      "    \n",
      "    Returns:\n",
      "            A dictionary with the violated constraints and the count of their violations,\n",
      "            in the following format: {\n",
      "                    \"constraint_type[activity_a, activity_b]\": int(violation_count), ...\n",
      "            }, example:\n",
      "            {\n",
      "                    \"Init[Activity A, Activity B]\": 5,\n",
      "                    \"End[Activity C, Activity D]\": 3\n",
      "            }\n",
      "\n",
      "Help on function analyse_eventlog_anomalies in module __main__:\n",
      "\n",
      "analyse_eventlog_anomalies(log: pandas.core.frame.DataFrame, constraint_type: str, threshold: float = 0.75) -> dict\n",
      "    Performs anomaly analysis for a specific constraint type in a previously loaded process event log.\n",
      "    \n",
      "    Args:\n",
      "            log: A pandas DataFrame containing the event log data. \n",
      "            constraint_type: The type of constraint to be checked. Based on the user's question, choose one of the following values: 'Init', 'End', 'Precedence', 'Succession', 'Alternate Precedence', 'Co-Existence', 'Response', 'Alternate Response', 'Alternate Succession', 'Choice', 'Exclusive Choice'. Example, for start rule,\" use 'Init'.\n",
      "            threshold: The threshold value for anomaly analysis. This parameter is used to define the severity level of constraint violations.\n",
      "    \n",
      "    Returns:\n",
      "            A dictionary with the violated constraints and the count of their violations,\n",
      "            in the following format: {\n",
      "                    \"constraint_type[activity_a, activity_b]\": int(violation_count), ...\n",
      "            }, example:\n",
      "            {\n",
      "                    \"Init[Activity A, Activity B]\": 5,\n",
      "                    \"End[Activity C, Activity D]\": 3\n",
      "            }\u001b[0m\u001b[32;1m\u001b[1;3mAction: Stateful Python Interpreter\n",
      "Action Input:\n",
      "log = get_eventlog()\n",
      "anomalies = analyse_eventlog_anomalies(log=log, constraint_type='End', threshold=0.8)\n",
      "print(anomalies)\u001b[0m\u001b[36;1m\u001b[1;3m>>> get_eventlog()\n",
      ">>> Eventlog((72151, 23))\n",
      "\n",
      "\n",
      ">>> analyse_eventlog_anomalies(constraint_type='End', threshold=0.8)\n",
      "Get prediction for constraint type:  End\n",
      ">>> {'End[declaration rejected by supervisor]': 6448}\n",
      "\n",
      "{'End[declaration rejected by supervisor]': 6448}\u001b[0m\u001b[32;1m\u001b[1;3mAqui estão as anomalias que quebram a regra de \"Fim\" no seu log de eventos, considerando um limiar de 80%:\n",
      "\n",
      "Foi identificada uma anomalia significativa:\n",
      "*   **Fim[declaração rejeitada pelo supervisor]**: Esta anomalia ocorreu 6448 vezes.\n",
      "\n",
      "**Análise e Insight:**\n",
      "\n",
      "A regra de \"Fim\" define quais atividades são consideradas os pontos finais esperados de um processo. De acordo com o contexto fornecido, o processo de solicitação de despesas de viagem deveria terminar com \"a viagem sendo realizada\" ou \"um pagamento sendo solicitado e efetuado\".\n",
      "\n",
      "A anomalia \"declaração rejeitada pelo supervisor\" indica que, em 6448 casos, o processo terminou com a rejeição da declaração pelo supervisor, em vez de um dos finais esperados (viagem realizada ou pagamento efetuado). Isso é uma quebra da regra de \"Fim\" porque uma rejeição não é o desfecho final desejado ou previsto para a maioria dos processos bem-sucedidos.\n",
      "\n",
      "O alto número de ocorrências (6448) sugere que esta não é uma exceção rara, mas sim um padrão comum de desvio. Isso pode indicar:\n",
      "*   **Problemas na Qualidade das Solicitações:** Muitos funcionários podem estar submetendo declarações incompletas ou incorretas que levam à rejeição.\n",
      "*   **Falta de Clareza nas Regras:** As regras para declaração de despesas podem não ser claras, levando a erros frequentes por parte dos funcionários.\n",
      "*   **Gargalo ou Ponto de Saída Indesejado:** A rejeição pelo supervisor pode estar atuando como um \"fim\" não planejado para um grande volume de solicitações, o que pode ser ineficiente e frustrante para os funcionários.\n",
      "\n",
      "Recomenda-se investigar as causas dessas rejeições para entender por que tantas solicitações não chegam aos seus finais esperados e como o processo pode ser melhorado para reduzir essas anomalias.\u001b[0mInvalid Format: Missing 'Action:' after 'Thought:'\u001b[32;1m\u001b[1;3mFinal Answer:Aqui estão as anomalias que quebram a regra de \"Fim\" no seu log de eventos, considerando um limiar de 80%:\n",
      "\n",
      "Foi identificada uma anomalia significativa:\n",
      "*   **Fim[declaração rejeitada pelo supervisor]**: Esta anomalia ocorreu 6448 vezes.\n",
      "\n",
      "**Análise e Insight:**\n",
      "\n",
      "A regra de \"Fim\" define quais atividades são consideradas os pontos finais esperados de um processo. De acordo com o contexto fornecido, o processo de solicitação de despesas de viagem deveria terminar com \"a viagem sendo realizada\" ou \"um pagamento sendo solicitado e efetuado\".\n",
      "\n",
      "A anomalia \"declaração rejeitada pelo supervisor\" indica que, em 6448 casos, o processo terminou com a rejeição da declaração pelo supervisor, em vez de um dos finais esperados (viagem realizada ou pagamento efetuado). Isso é uma quebra da regra de \"Fim\" porque uma rejeição não é o desfecho final desejado ou previsto para a maioria dos processos bem-sucedidos.\n",
      "\n",
      "O alto número de ocorrências (6448) sugere que esta não é uma exceção rara, mas sim um padrão comum de desvio. Isso pode indicar:\n",
      "*   **Problemas na Qualidade das Solicitações:** Muitos funcionários podem estar submetendo declarações incompletas ou incorretas que levam à rejeição.\n",
      "*   **Falta de Clareza nas Regras:** As regras para declaração de despesas podem não ser claras, levando a erros frequentes por parte dos funcionários.\n",
      "*   **Gargalo ou Ponto de Saída Indesejado:** A rejeição pelo supervisor pode estar atuando como um \"fim\" não planejado para um grande volume de solicitações, o que pode ser ineficiente e frustrante para os funcionários.\n",
      "\n",
      "Recomenda-se investigar as causas dessas rejeições para entender por que tantas solicitações não chegam aos seus finais esperados e como o processo pode ser melhorado para reduzir essas anomalias.\u001b[0m\n",
      "\n",
      "\u001b[1m> Finished chain.\u001b[0m\n",
      "\n",
      "🧑‍💻 Pergunta: Analise as funções e variáveis disponíveis. Quais são as anomalias que quebram a regra de fim no log de eventos carregado? Considere um limiar de 80% para a análise.\n",
      "🤖 Resposta: Aqui estão as anomalias que quebram a regra de \"Fim\" no seu log de eventos, considerando um limiar de 80%:\n",
      "\n",
      "Foi identificada uma anomalia significativa:\n",
      "*   **Fim[declaração rejeitada pelo supervisor]**: Esta anomalia ocorreu 6448 vezes.\n",
      "\n",
      "**Análise e Insight:**\n",
      "\n",
      "A regra de \"Fim\" define quais atividades são consideradas os pontos finais esperados de um processo. De acordo com o contexto fornecido, o processo de solicitação de despesas de viagem deveria terminar com \"a viagem sendo realizada\" ou \"um pagamento sendo solicitado e efetuado\".\n",
      "\n",
      "A anomalia \"declaração rejeitada pelo supervisor\" indica que, em 6448 casos, o processo terminou com a rejeição da declaração pelo supervisor, em vez de um dos finais esperados (viagem realizada ou pagamento efetuado). Isso é uma quebra da regra de \"Fim\" porque uma rejeição não é o desfecho final desejado ou previsto para a maioria dos processos bem-sucedidos.\n",
      "\n",
      "O alto número de ocorrências (6448) sugere que esta não é uma exceção rara, mas sim um padrão comum de desvio. Isso pode indicar:\n",
      "*   **Problemas na Qualidade das Solicitações:** Muitos funcionários podem estar submetendo declarações incompletas ou incorretas que levam à rejeição.\n",
      "*   **Falta de Clareza nas Regras:** As regras para declaração de despesas podem não ser claras, levando a erros frequentes por parte dos funcionários.\n",
      "*   **Gargalo ou Ponto de Saída Indesejado:** A rejeição pelo supervisor pode estar atuando como um \"fim\" não planejado para um grande volume de solicitações, o que pode ser ineficiente e frustrante para os funcionários.\n",
      "\n",
      "Recomenda-se investigar as causas dessas rejeições para entender por que tantas solicitações não chegam aos seus finais esperados e como o processo pode ser melhorado para reduzir essas anomalias.\n"
     ]
    }
   ],
   "source": [
    "question = \"Analise as funções e variáveis disponíveis. Quais são as anomalias que quebram a regra de fim no log de eventos carregado? Considere um limiar de 80% para a análise.\"\n",
    "\n",
    "result = agent_executor.invoke({\n",
    "    \"input\": question,\n",
    "    \"chat_history\": [],\n",
    "    \"event_log_context\": context,\n",
    "})\n",
    "print(f\"\\n🧑‍💻 Pergunta: {question}\")\n",
    "print(f\"🤖 Resposta: {result['output']}\")"
   ]
  }
 ],
 "metadata": {
  "kernelspec": {
   "display_name": "venv",
   "language": "python",
   "name": "python3"
  },
  "language_info": {
   "codemirror_mode": {
    "name": "ipython",
    "version": 3
   },
   "file_extension": ".py",
   "mimetype": "text/x-python",
   "name": "python",
   "nbconvert_exporter": "python",
   "pygments_lexer": "ipython3",
   "version": "3.10.18"
  }
 },
 "nbformat": 4,
 "nbformat_minor": 5
}
