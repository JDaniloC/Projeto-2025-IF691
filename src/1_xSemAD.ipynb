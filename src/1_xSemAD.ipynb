{
 "cells": [
  {
   "cell_type": "code",
   "execution_count": 5,
   "metadata": {},
   "outputs": [],
   "source": [
    "from x_sem_ad import XSemAD, load_event_log_from_xes\n",
    "from pprint import pprint"
   ]
  },
  {
   "cell_type": "code",
   "execution_count": 2,
   "metadata": {},
   "outputs": [],
   "source": [
    "path_to_model=\"./data/model/\"\n",
    "path_to_log = 'data/InternationalDeclarations.xes'\n",
    "constraint_types = [\n",
    "    ('Precedence',.75),\n",
    "    ('Alternate Precedence',.75),\n",
    "    ('Co-Existence',.75),\n",
    "    ('Response',.75),\n",
    "    ('Alternate Response',.75),\n",
    "    ('Succession',.75),\n",
    "    ('Alternate Succession',.75),\n",
    "    ('Init',.85),\n",
    "    ('End',.85),\n",
    "    ('Choice',.75),\n",
    "    ('Exclusive Choice',.75)\n",
    "]"
   ]
  },
  {
   "cell_type": "code",
   "execution_count": 6,
   "metadata": {},
   "outputs": [
    {
     "name": "stderr",
     "output_type": "stream",
     "text": [
      "/home/danilo/dev/research/venv/lib/python3.10/site-packages/pm4py/util/dt_parsing/parser.py:82: UserWarning: ISO8601 strings are not fully supported with strpfromiso for Python versions below 3.11\n",
      "  warnings.warn(\n"
     ]
    },
    {
     "data": {
      "application/vnd.jupyter.widget-view+json": {
       "model_id": "d2b5368adebc499daadc3daee8f5ed78",
       "version_major": 2,
       "version_minor": 0
      },
      "text/plain": [
       "parsing log, completed traces ::   0%|          | 0/6449 [00:00<?, ?it/s]"
      ]
     },
     "metadata": {},
     "output_type": "display_data"
    },
    {
     "name": "stdout",
     "output_type": "stream",
     "text": [
      "Loading model from: ./data/model/ folder\n",
      "Get prediction for constraint type:  Precedence\n",
      "{'Precedence[declaration approved by supervisor, declaration rejected by supervisor]': 121,\n",
      " 'Precedence[declaration approved by supervisor, permit approved by supervisor]': 637,\n",
      " 'Precedence[declaration approved by supervisor, permit rejected by supervisor]': 92,\n",
      " 'Precedence[request payment, declaration rejected by supervisor]': 122,\n",
      " 'Precedence[request payment, permit rejected by supervisor]': 92,\n",
      " 'Precedence[send reminder, declaration approved by supervisor]': 234,\n",
      " 'Precedence[send reminder, declaration rejected by supervisor]': 116,\n",
      " 'Precedence[start trip, declaration approved by supervisor]': 32,\n",
      " 'Precedence[start trip, declaration rejected by supervisor]': 10}\n",
      "\n",
      "Get prediction for constraint type:  Alternate precedence\n",
      "{'Alternate Precedence[declaration approved by director, declaration rejected by supervisor]': 122,\n",
      " 'Alternate Precedence[declaration approved by supervisor, declaration rejected by supervisor]': 122,\n",
      " 'Alternate Precedence[declaration approved by supervisor, permit approved by supervisor]': 637,\n",
      " 'Alternate Precedence[declaration approved by supervisor, permit rejected by manager]': 0,\n",
      " 'Alternate Precedence[declaration approved by supervisor, permit rejected by supervisor]': 92,\n",
      " 'Alternate Precedence[request payment, declaration approved by supervisor]': 246,\n",
      " 'Alternate Precedence[request payment, declaration rejected by supervisor]': 122,\n",
      " 'Alternate Precedence[request payment, permit approved by supervisor]': 637,\n",
      " 'Alternate Precedence[request payment, permit rejected by supervisor]': 92,\n",
      " 'Alternate Precedence[send reminder, declaration approved by supervisor]': 246,\n",
      " 'Alternate Precedence[send reminder, declaration rejected by supervisor]': 122,\n",
      " 'Alternate Precedence[start trip, declaration approved by supervisor]': 246,\n",
      " 'Alternate Precedence[start trip, declaration rejected by supervisor]': 121}\n",
      "\n",
      "Get prediction for constraint type:  Co-existence\n",
      "{'Co-Existence[declaration approved by supervisor, declaration approved by director]': 6449,\n",
      " 'Co-Existence[declaration approved by supervisor, declaration rejected by supervisor]': 6441,\n",
      " 'Co-Existence[declaration approved by supervisor, permit approved by supervisor]': 6258,\n",
      " 'Co-Existence[declaration approved by supervisor, request payment]': 6204,\n",
      " 'Co-Existence[permit approved by supervisor, declaration approved by supervisor]': 6258,\n",
      " 'Co-Existence[permit approved by supervisor, declaration rejected by supervisor]': 6431,\n",
      " 'Co-Existence[request payment, declaration approved by supervisor]': 6204,\n",
      " 'Co-Existence[request payment, declaration rejected by supervisor]': 6344,\n",
      " 'Co-Existence[send reminder, declaration approved by supervisor]': 6437,\n",
      " 'Co-Existence[send reminder, declaration rejected by supervisor]': 6443}\n",
      "\n",
      "Get prediction for constraint type:  Response\n",
      "{'Response[declaration rejected by supervisor, declaration approved by supervisor]': 114}\n",
      "\n",
      "Get prediction for constraint type:  Alternate response\n",
      "{'Alternate Response[declaration rejected by supervisor, declaration approved by supervisor]': 4,\n",
      " 'Alternate Response[request payment, declaration approved by supervisor]': 0}\n",
      "\n",
      "Get prediction for constraint type:  Succession\n",
      "{'Succession[declaration approved by supervisor, request payment]': 244,\n",
      " 'Succession[declaration rejected by supervisor, declaration approved by supervisor]': 122,\n",
      " 'Succession[request payment, declaration approved by supervisor]': 6183,\n",
      " 'Succession[send reminder, declaration approved by supervisor]': 406}\n",
      "\n",
      "Get prediction for constraint type:  Alternate succession\n",
      "{'Alternate Succession[declaration approved by director, declaration approved by supervisor]': 0,\n",
      " 'Alternate Succession[declaration approved by manager, declaration approved by supervisor]': 0,\n",
      " 'Alternate Succession[declaration approved by supervisor, end trip]': 246,\n",
      " 'Alternate Succession[declaration approved by supervisor, request payment]': 245,\n",
      " 'Alternate Succession[declaration rejected by supervisor, declaration approved by supervisor]': 8,\n",
      " 'Alternate Succession[declaration rejected by supervisor, request payment]': 105,\n",
      " 'Alternate Succession[permit approved by supervisor, declaration approved by supervisor]': 191,\n",
      " 'Alternate Succession[permit rejected by supervisor, declaration approved by supervisor]': 3,\n",
      " 'Alternate Succession[request payment, declaration approved by supervisor]': 245,\n",
      " 'Alternate Succession[send reminder, declaration approved by supervisor]': 12,\n",
      " 'Alternate Succession[send reminder, request payment]': 378}\n",
      "\n",
      "Get prediction for constraint type:  Init\n",
      "{}\n",
      "\n",
      "Get prediction for constraint type:  End\n",
      "{}\n",
      "\n",
      "Get prediction for constraint type:  Choice\n",
      "{'Choice[declaration rejected by supervisor, declaration approved by supervisor]': 6089,\n",
      " 'Choice[request payment, declaration approved by supervisor]': 265,\n",
      " 'Choice[send reminder, declaration approved by supervisor]': 5809}\n",
      "\n",
      "Get prediction for constraint type:  Exclusive choice\n",
      "{'Exclusive Choice[declaration approved by supervisor, declaration rejected by supervisor]': 6097,\n",
      " 'Exclusive Choice[declaration rejected by director, declaration rejected by supervisor]': 6325,\n",
      " 'Exclusive Choice[declaration rejected by supervisor, declaration approved by supervisor]': 6097}\n",
      "\n"
     ]
    }
   ],
   "source": [
    "log = load_event_log_from_xes(path_to_log)\n",
    "model = XSemAD(path_to_model=path_to_model)\n",
    "model.load_event_log(log)\n",
    "\n",
    "for constraint, threshold in constraint_types:\n",
    "    predictions = model.generate_constraint(constraint_type=constraint,\n",
    "                                            threshold=threshold)\n",
    "    violations = model.count_violations(predictions)\n",
    "    pprint(violations)\n",
    "    print()"
   ]
  }
 ],
 "metadata": {
  "kernelspec": {
   "display_name": "venv",
   "language": "python",
   "name": "python3"
  },
  "language_info": {
   "codemirror_mode": {
    "name": "ipython",
    "version": 3
   },
   "file_extension": ".py",
   "mimetype": "text/x-python",
   "name": "python",
   "nbconvert_exporter": "python",
   "pygments_lexer": "ipython3",
   "version": "3.10.18"
  }
 },
 "nbformat": 4,
 "nbformat_minor": 2
}
